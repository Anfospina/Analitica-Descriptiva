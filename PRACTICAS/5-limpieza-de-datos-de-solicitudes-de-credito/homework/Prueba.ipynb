{
 "cells": [
  {
   "cell_type": "code",
   "execution_count": 1,
   "metadata": {},
   "outputs": [],
   "source": [
    "import pandas as pd\n",
    "import os"
   ]
  },
  {
   "cell_type": "code",
   "execution_count": 2,
   "metadata": {},
   "outputs": [],
   "source": [
    "df=pd.read_csv('../files/input/solicitudes_de_credito.csv',delimiter=';',index_col=0)\n",
    "#10920 rows × 9 columns"
   ]
  },
  {
   "cell_type": "code",
   "execution_count": 3,
   "metadata": {},
   "outputs": [
    {
     "name": "stdout",
     "output_type": "stream",
     "text": [
      "<class 'pandas.core.frame.DataFrame'>\n",
      "Index: 10920 entries, 0 to 10919\n",
      "Data columns (total 9 columns):\n",
      " #   Column                  Non-Null Count  Dtype  \n",
      "---  ------                  --------------  -----  \n",
      " 0   sexo                    10920 non-null  object \n",
      " 1   tipo_de_emprendimiento  10818 non-null  object \n",
      " 2   idea_negocio            10920 non-null  object \n",
      " 3   barrio                  10818 non-null  object \n",
      " 4   estrato                 10920 non-null  int64  \n",
      " 5   comuna_ciudadano        10920 non-null  float64\n",
      " 6   fecha_de_beneficio      10920 non-null  object \n",
      " 7   monto_del_credito       10920 non-null  object \n",
      " 8   línea_credito           10920 non-null  object \n",
      "dtypes: float64(1), int64(1), object(7)\n",
      "memory usage: 853.1+ KB\n"
     ]
    }
   ],
   "source": [
    "df.info()"
   ]
  },
  {
   "cell_type": "code",
   "execution_count": 4,
   "metadata": {},
   "outputs": [
    {
     "data": {
      "text/plain": [
       "sexo                        0\n",
       "tipo_de_emprendimiento    102\n",
       "idea_negocio                0\n",
       "barrio                    102\n",
       "estrato                     0\n",
       "comuna_ciudadano            0\n",
       "fecha_de_beneficio          0\n",
       "monto_del_credito           0\n",
       "línea_credito               0\n",
       "dtype: int64"
      ]
     },
     "execution_count": 4,
     "metadata": {},
     "output_type": "execute_result"
    }
   ],
   "source": [
    "df.isnull().sum()"
   ]
  },
  {
   "cell_type": "code",
   "execution_count": 5,
   "metadata": {},
   "outputs": [],
   "source": [
    "df.dropna(inplace=True)\n",
    "#10716 rows × 9 columns"
   ]
  },
  {
   "cell_type": "code",
   "execution_count": 6,
   "metadata": {},
   "outputs": [
    {
     "name": "stdout",
     "output_type": "stream",
     "text": [
      "0                      prado\n",
      "1             barrio caicedo\n",
      "2                   aranjuez\n",
      "3     cabecera san cristobal\n",
      "4                    robledo\n",
      "5                  picachito\n",
      "6                   guayabal\n",
      "7                  carpinelo\n",
      "8                 belalcazar\n",
      "9       manrique central no1\n",
      "10      manrique central no2\n",
      "11       santa elena central\n",
      "12                 andalucia\n",
      "13            san javier no1\n",
      "14                 belencito\n",
      "15            centro admtivo\n",
      "16     cabecera san antonio \n",
      "17      manrique central no1\n",
      "18             villa hermosa\n",
      "19            playon de los \n",
      "20              buenos aires\n",
      "21      manrique central no1\n",
      "22                   popular\n",
      "23                   robledo\n",
      "24             tricentenario\n",
      "25                  calasanz\n",
      "26                  aranjuez\n",
      "27              buenos aires\n",
      "28                 andalucia\n",
      "29                  pedregal\n",
      "30                la francia\n",
      "31                santa cruz\n",
      "32            san javier no1\n",
      "33               la floresta\n",
      "34                     belen\n",
      "35                las brisas\n",
      "36                  castilla\n",
      "37            san javier no1\n",
      "38     cabecera san antonio \n",
      "39     cabecera san antonio \n",
      "40                  guayabal\n",
      "41                     belen\n",
      "42                 santander\n",
      "43                     prado\n",
      "44                santa cruz\n",
      "45                  aranjuez\n",
      "46                  castilla\n",
      "47            san javier no2\n",
      "49            san javier no1\n",
      "50                  pedregal\n",
      "Name: barrio, dtype: object\n"
     ]
    }
   ],
   "source": [
    "df['sexo']=df['sexo'].str.lower().str.strip()\n",
    "df['tipo_de_emprendimiento']=df['tipo_de_emprendimiento'].str.lower().str.strip()\n",
    "df['idea_negocio']=df['idea_negocio'].str.replace('-',' ').str.replace('_',' ').str.lower().str.strip()\n",
    "df['barrio']=df['barrio'].str.replace('-',' ').str.replace('_',' ').str.lower()\n",
    "df['barrio'] = df['barrio'].str.replace(r'no\\.\\s*(\\d+)', r'no\\1', regex=True)\n",
    "df['estrato']=df['estrato'].astype(int)\n",
    "df['comuna_ciudadano']=df['comuna_ciudadano'].astype(int)\n",
    "print(df['barrio'].head(50))"
   ]
  },
  {
   "cell_type": "code",
   "execution_count": 7,
   "metadata": {},
   "outputs": [],
   "source": [
    "from datetime import datetime\n",
    "\n",
    "# Función para convertir fechas en varios formatos\n",
    "def parse_date(date_str):\n",
    "    for fmt in ('%d/%m/%Y', '%Y/%m/%d', '%Y/%d/%m'):\n",
    "        try:\n",
    "            return datetime.strptime(date_str, fmt)\n",
    "        except ValueError:\n",
    "            pass\n",
    "    return None\n",
    "\n",
    "# Aplicar la función a la columna de fecha\n",
    "df['fecha_de_beneficio'] = df['fecha_de_beneficio'].apply(parse_date)\n",
    "\n",
    "# Formatear la columna de fecha al formato día/mes/año\n",
    "df['fecha_de_beneficio'] = df['fecha_de_beneficio'].dt.strftime('%d/%m/%Y')"
   ]
  },
  {
   "cell_type": "code",
   "execution_count": 8,
   "metadata": {},
   "outputs": [
    {
     "name": "stderr",
     "output_type": "stream",
     "text": [
      "<>:1: SyntaxWarning: invalid escape sequence '\\$'\n",
      "<>:1: SyntaxWarning: invalid escape sequence '\\$'\n",
      "C:\\Users\\57301\\AppData\\Local\\Temp\\ipykernel_26448\\2054030736.py:1: SyntaxWarning: invalid escape sequence '\\$'\n",
      "  df['monto_del_credito']=df['monto_del_credito'].replace({'\\$':'',',':'',' ':''},regex=True).astype(float)\n"
     ]
    },
    {
     "data": {
      "text/html": [
       "<div>\n",
       "<style scoped>\n",
       "    .dataframe tbody tr th:only-of-type {\n",
       "        vertical-align: middle;\n",
       "    }\n",
       "\n",
       "    .dataframe tbody tr th {\n",
       "        vertical-align: top;\n",
       "    }\n",
       "\n",
       "    .dataframe thead th {\n",
       "        text-align: right;\n",
       "    }\n",
       "</style>\n",
       "<table border=\"1\" class=\"dataframe\">\n",
       "  <thead>\n",
       "    <tr style=\"text-align: right;\">\n",
       "      <th></th>\n",
       "      <th>sexo</th>\n",
       "      <th>tipo_de_emprendimiento</th>\n",
       "      <th>idea_negocio</th>\n",
       "      <th>barrio</th>\n",
       "      <th>estrato</th>\n",
       "      <th>comuna_ciudadano</th>\n",
       "      <th>fecha_de_beneficio</th>\n",
       "      <th>monto_del_credito</th>\n",
       "      <th>línea_credito</th>\n",
       "    </tr>\n",
       "  </thead>\n",
       "  <tbody>\n",
       "    <tr>\n",
       "      <th>0</th>\n",
       "      <td>masculino</td>\n",
       "      <td>comercio</td>\n",
       "      <td>fabrica de</td>\n",
       "      <td>prado</td>\n",
       "      <td>3</td>\n",
       "      <td>10</td>\n",
       "      <td>13/07/2018</td>\n",
       "      <td>5000000.0</td>\n",
       "      <td>microempresarial</td>\n",
       "    </tr>\n",
       "    <tr>\n",
       "      <th>1</th>\n",
       "      <td>femenino</td>\n",
       "      <td>servicio</td>\n",
       "      <td>recreativo educativo</td>\n",
       "      <td>barrio caicedo</td>\n",
       "      <td>1</td>\n",
       "      <td>9</td>\n",
       "      <td>30/10/2017</td>\n",
       "      <td>6000000.0</td>\n",
       "      <td>microempresarial</td>\n",
       "    </tr>\n",
       "    <tr>\n",
       "      <th>2</th>\n",
       "      <td>femenino</td>\n",
       "      <td>comercio</td>\n",
       "      <td>tienda</td>\n",
       "      <td>aranjuez</td>\n",
       "      <td>2</td>\n",
       "      <td>4</td>\n",
       "      <td>03/08/2017</td>\n",
       "      <td>7300000.0</td>\n",
       "      <td>microempresarial</td>\n",
       "    </tr>\n",
       "    <tr>\n",
       "      <th>3</th>\n",
       "      <td>masculino</td>\n",
       "      <td>comercio</td>\n",
       "      <td>variedades</td>\n",
       "      <td>cabecera san cristobal</td>\n",
       "      <td>3</td>\n",
       "      <td>60</td>\n",
       "      <td>20/11/2017</td>\n",
       "      <td>7000000.0</td>\n",
       "      <td>microempresarial</td>\n",
       "    </tr>\n",
       "    <tr>\n",
       "      <th>4</th>\n",
       "      <td>femenino</td>\n",
       "      <td>comercio</td>\n",
       "      <td>fabrica de</td>\n",
       "      <td>robledo</td>\n",
       "      <td>2</td>\n",
       "      <td>7</td>\n",
       "      <td>23/02/2017</td>\n",
       "      <td>5000000.0</td>\n",
       "      <td>microempresarial</td>\n",
       "    </tr>\n",
       "  </tbody>\n",
       "</table>\n",
       "</div>"
      ],
      "text/plain": [
       "        sexo tipo_de_emprendimiento          idea_negocio  \\\n",
       "0  masculino               comercio            fabrica de   \n",
       "1   femenino               servicio  recreativo educativo   \n",
       "2   femenino               comercio                tienda   \n",
       "3  masculino               comercio            variedades   \n",
       "4   femenino               comercio            fabrica de   \n",
       "\n",
       "                   barrio  estrato  comuna_ciudadano fecha_de_beneficio  \\\n",
       "0                   prado        3                10         13/07/2018   \n",
       "1          barrio caicedo        1                 9         30/10/2017   \n",
       "2                aranjuez        2                 4         03/08/2017   \n",
       "3  cabecera san cristobal        3                60         20/11/2017   \n",
       "4                 robledo        2                 7         23/02/2017   \n",
       "\n",
       "   monto_del_credito     línea_credito  \n",
       "0          5000000.0  microempresarial  \n",
       "1          6000000.0  microempresarial  \n",
       "2          7300000.0  microempresarial  \n",
       "3          7000000.0  microempresarial  \n",
       "4          5000000.0  microempresarial  "
      ]
     },
     "execution_count": 8,
     "metadata": {},
     "output_type": "execute_result"
    }
   ],
   "source": [
    "df['monto_del_credito']=df['monto_del_credito'].replace({'\\$':'',',':'',' ':''},regex=True).astype(float)\n",
    "df['línea_credito']=df['línea_credito'].str.replace('-',' ').str.replace('_',' ').str.lower().str.strip()\n",
    "df.drop_duplicates(inplace=True)\n",
    "df.head()"
   ]
  },
  {
   "cell_type": "code",
   "execution_count": 9,
   "metadata": {},
   "outputs": [],
   "source": [
    "dir='../files/output'\n",
    "os.makedirs(dir,exist_ok=True)\n",
    "path=os.path.join(dir,'solicitudes_de_credito.csv')\n",
    "df.to_csv(path,sep=';',index=False)"
   ]
  }
 ],
 "metadata": {
  "kernelspec": {
   "display_name": ".venv",
   "language": "python",
   "name": "python3"
  },
  "language_info": {
   "codemirror_mode": {
    "name": "ipython",
    "version": 3
   },
   "file_extension": ".py",
   "mimetype": "text/x-python",
   "name": "python",
   "nbconvert_exporter": "python",
   "pygments_lexer": "ipython3",
   "version": "3.12.5"
  }
 },
 "nbformat": 4,
 "nbformat_minor": 2
}
